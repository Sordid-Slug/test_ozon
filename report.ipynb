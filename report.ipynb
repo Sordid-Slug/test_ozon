{
 "cells": [
  {
   "cell_type": "markdown",
   "id": "b0c06741",
   "metadata": {},
   "source": [
    "# Here's report for ozon test intership"
   ]
  }
 ],
 "metadata": {
  "language_info": {
   "name": "python"
  }
 },
 "nbformat": 4,
 "nbformat_minor": 5
}
